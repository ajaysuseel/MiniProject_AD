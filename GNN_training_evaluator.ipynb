{
  "nbformat": 4,
  "nbformat_minor": 0,
  "metadata": {
    "colab": {
      "provenance": [],
      "gpuType": "T4"
    },
    "kernelspec": {
      "name": "python3",
      "display_name": "Python 3"
    },
    "language_info": {
      "name": "python"
    },
    "accelerator": "GPU",
    "widgets": {
      "application/vnd.jupyter.widget-state+json": {
        "80c1e7dc573d49f2934f940b15e32a0b": {
          "model_module": "@jupyter-widgets/controls",
          "model_name": "HBoxModel",
          "model_module_version": "1.5.0",
          "state": {
            "_dom_classes": [],
            "_model_module": "@jupyter-widgets/controls",
            "_model_module_version": "1.5.0",
            "_model_name": "HBoxModel",
            "_view_count": null,
            "_view_module": "@jupyter-widgets/controls",
            "_view_module_version": "1.5.0",
            "_view_name": "HBoxView",
            "box_style": "",
            "children": [
              "IPY_MODEL_891ccec3d8da44708460e609918e8084",
              "IPY_MODEL_c5d870dd511c4f8eabc8d1c1ac43ec6c",
              "IPY_MODEL_6f86a0fda58f400e929df657dd4a5929"
            ],
            "layout": "IPY_MODEL_57dd89d5f6d34d4886b4133eedf9cde2"
          }
        },
        "891ccec3d8da44708460e609918e8084": {
          "model_module": "@jupyter-widgets/controls",
          "model_name": "HTMLModel",
          "model_module_version": "1.5.0",
          "state": {
            "_dom_classes": [],
            "_model_module": "@jupyter-widgets/controls",
            "_model_module_version": "1.5.0",
            "_model_name": "HTMLModel",
            "_view_count": null,
            "_view_module": "@jupyter-widgets/controls",
            "_view_module_version": "1.5.0",
            "_view_name": "HTMLView",
            "description": "",
            "description_tooltip": null,
            "layout": "IPY_MODEL_c023f9b0fd9b4a8893c125bb1a9a4445",
            "placeholder": "​",
            "style": "IPY_MODEL_5a7f72bfe34d48e2990a7297902046ec",
            "value": "Inference: 100%"
          }
        },
        "c5d870dd511c4f8eabc8d1c1ac43ec6c": {
          "model_module": "@jupyter-widgets/controls",
          "model_name": "FloatProgressModel",
          "model_module_version": "1.5.0",
          "state": {
            "_dom_classes": [],
            "_model_module": "@jupyter-widgets/controls",
            "_model_module_version": "1.5.0",
            "_model_name": "FloatProgressModel",
            "_view_count": null,
            "_view_module": "@jupyter-widgets/controls",
            "_view_module_version": "1.5.0",
            "_view_name": "ProgressView",
            "bar_style": "success",
            "description": "",
            "description_tooltip": null,
            "layout": "IPY_MODEL_c52d68090ae64b7fb88557177b79b1d7",
            "max": 25,
            "min": 0,
            "orientation": "horizontal",
            "style": "IPY_MODEL_5761703ddaaf4aa49e03053c7510a07d",
            "value": 25
          }
        },
        "6f86a0fda58f400e929df657dd4a5929": {
          "model_module": "@jupyter-widgets/controls",
          "model_name": "HTMLModel",
          "model_module_version": "1.5.0",
          "state": {
            "_dom_classes": [],
            "_model_module": "@jupyter-widgets/controls",
            "_model_module_version": "1.5.0",
            "_model_name": "HTMLModel",
            "_view_count": null,
            "_view_module": "@jupyter-widgets/controls",
            "_view_module_version": "1.5.0",
            "_view_name": "HTMLView",
            "description": "",
            "description_tooltip": null,
            "layout": "IPY_MODEL_98d0786d1ded427fb4de04a3f753bbf2",
            "placeholder": "​",
            "style": "IPY_MODEL_e22fcdf27e4649359f5d3e51c75305fd",
            "value": " 25/25 [00:12&lt;00:00,  1.94it/s]"
          }
        },
        "57dd89d5f6d34d4886b4133eedf9cde2": {
          "model_module": "@jupyter-widgets/base",
          "model_name": "LayoutModel",
          "model_module_version": "1.2.0",
          "state": {
            "_model_module": "@jupyter-widgets/base",
            "_model_module_version": "1.2.0",
            "_model_name": "LayoutModel",
            "_view_count": null,
            "_view_module": "@jupyter-widgets/base",
            "_view_module_version": "1.2.0",
            "_view_name": "LayoutView",
            "align_content": null,
            "align_items": null,
            "align_self": null,
            "border": null,
            "bottom": null,
            "display": null,
            "flex": null,
            "flex_flow": null,
            "grid_area": null,
            "grid_auto_columns": null,
            "grid_auto_flow": null,
            "grid_auto_rows": null,
            "grid_column": null,
            "grid_gap": null,
            "grid_row": null,
            "grid_template_areas": null,
            "grid_template_columns": null,
            "grid_template_rows": null,
            "height": null,
            "justify_content": null,
            "justify_items": null,
            "left": null,
            "margin": null,
            "max_height": null,
            "max_width": null,
            "min_height": null,
            "min_width": null,
            "object_fit": null,
            "object_position": null,
            "order": null,
            "overflow": null,
            "overflow_x": null,
            "overflow_y": null,
            "padding": null,
            "right": null,
            "top": null,
            "visibility": null,
            "width": null
          }
        },
        "c023f9b0fd9b4a8893c125bb1a9a4445": {
          "model_module": "@jupyter-widgets/base",
          "model_name": "LayoutModel",
          "model_module_version": "1.2.0",
          "state": {
            "_model_module": "@jupyter-widgets/base",
            "_model_module_version": "1.2.0",
            "_model_name": "LayoutModel",
            "_view_count": null,
            "_view_module": "@jupyter-widgets/base",
            "_view_module_version": "1.2.0",
            "_view_name": "LayoutView",
            "align_content": null,
            "align_items": null,
            "align_self": null,
            "border": null,
            "bottom": null,
            "display": null,
            "flex": null,
            "flex_flow": null,
            "grid_area": null,
            "grid_auto_columns": null,
            "grid_auto_flow": null,
            "grid_auto_rows": null,
            "grid_column": null,
            "grid_gap": null,
            "grid_row": null,
            "grid_template_areas": null,
            "grid_template_columns": null,
            "grid_template_rows": null,
            "height": null,
            "justify_content": null,
            "justify_items": null,
            "left": null,
            "margin": null,
            "max_height": null,
            "max_width": null,
            "min_height": null,
            "min_width": null,
            "object_fit": null,
            "object_position": null,
            "order": null,
            "overflow": null,
            "overflow_x": null,
            "overflow_y": null,
            "padding": null,
            "right": null,
            "top": null,
            "visibility": null,
            "width": null
          }
        },
        "5a7f72bfe34d48e2990a7297902046ec": {
          "model_module": "@jupyter-widgets/controls",
          "model_name": "DescriptionStyleModel",
          "model_module_version": "1.5.0",
          "state": {
            "_model_module": "@jupyter-widgets/controls",
            "_model_module_version": "1.5.0",
            "_model_name": "DescriptionStyleModel",
            "_view_count": null,
            "_view_module": "@jupyter-widgets/base",
            "_view_module_version": "1.2.0",
            "_view_name": "StyleView",
            "description_width": ""
          }
        },
        "c52d68090ae64b7fb88557177b79b1d7": {
          "model_module": "@jupyter-widgets/base",
          "model_name": "LayoutModel",
          "model_module_version": "1.2.0",
          "state": {
            "_model_module": "@jupyter-widgets/base",
            "_model_module_version": "1.2.0",
            "_model_name": "LayoutModel",
            "_view_count": null,
            "_view_module": "@jupyter-widgets/base",
            "_view_module_version": "1.2.0",
            "_view_name": "LayoutView",
            "align_content": null,
            "align_items": null,
            "align_self": null,
            "border": null,
            "bottom": null,
            "display": null,
            "flex": null,
            "flex_flow": null,
            "grid_area": null,
            "grid_auto_columns": null,
            "grid_auto_flow": null,
            "grid_auto_rows": null,
            "grid_column": null,
            "grid_gap": null,
            "grid_row": null,
            "grid_template_areas": null,
            "grid_template_columns": null,
            "grid_template_rows": null,
            "height": null,
            "justify_content": null,
            "justify_items": null,
            "left": null,
            "margin": null,
            "max_height": null,
            "max_width": null,
            "min_height": null,
            "min_width": null,
            "object_fit": null,
            "object_position": null,
            "order": null,
            "overflow": null,
            "overflow_x": null,
            "overflow_y": null,
            "padding": null,
            "right": null,
            "top": null,
            "visibility": null,
            "width": null
          }
        },
        "5761703ddaaf4aa49e03053c7510a07d": {
          "model_module": "@jupyter-widgets/controls",
          "model_name": "ProgressStyleModel",
          "model_module_version": "1.5.0",
          "state": {
            "_model_module": "@jupyter-widgets/controls",
            "_model_module_version": "1.5.0",
            "_model_name": "ProgressStyleModel",
            "_view_count": null,
            "_view_module": "@jupyter-widgets/base",
            "_view_module_version": "1.2.0",
            "_view_name": "StyleView",
            "bar_color": null,
            "description_width": ""
          }
        },
        "98d0786d1ded427fb4de04a3f753bbf2": {
          "model_module": "@jupyter-widgets/base",
          "model_name": "LayoutModel",
          "model_module_version": "1.2.0",
          "state": {
            "_model_module": "@jupyter-widgets/base",
            "_model_module_version": "1.2.0",
            "_model_name": "LayoutModel",
            "_view_count": null,
            "_view_module": "@jupyter-widgets/base",
            "_view_module_version": "1.2.0",
            "_view_name": "LayoutView",
            "align_content": null,
            "align_items": null,
            "align_self": null,
            "border": null,
            "bottom": null,
            "display": null,
            "flex": null,
            "flex_flow": null,
            "grid_area": null,
            "grid_auto_columns": null,
            "grid_auto_flow": null,
            "grid_auto_rows": null,
            "grid_column": null,
            "grid_gap": null,
            "grid_row": null,
            "grid_template_areas": null,
            "grid_template_columns": null,
            "grid_template_rows": null,
            "height": null,
            "justify_content": null,
            "justify_items": null,
            "left": null,
            "margin": null,
            "max_height": null,
            "max_width": null,
            "min_height": null,
            "min_width": null,
            "object_fit": null,
            "object_position": null,
            "order": null,
            "overflow": null,
            "overflow_x": null,
            "overflow_y": null,
            "padding": null,
            "right": null,
            "top": null,
            "visibility": null,
            "width": null
          }
        },
        "e22fcdf27e4649359f5d3e51c75305fd": {
          "model_module": "@jupyter-widgets/controls",
          "model_name": "DescriptionStyleModel",
          "model_module_version": "1.5.0",
          "state": {
            "_model_module": "@jupyter-widgets/controls",
            "_model_module_version": "1.5.0",
            "_model_name": "DescriptionStyleModel",
            "_view_count": null,
            "_view_module": "@jupyter-widgets/base",
            "_view_module_version": "1.2.0",
            "_view_name": "StyleView",
            "description_width": ""
          }
        }
      }
    }
  },
  "cells": [
    {
      "cell_type": "code",
      "source": [
        "# ----------------------------\n",
        "# Setup & Install Dependencies\n",
        "# ----------------------------\n",
        "!pip install -q pyg_lib torch_scatter torch_sparse torch_cluster torch_spline_conv \\\n",
        "-f https://data.pyg.org/whl/torch-2.6.0+cu124.html\n",
        "!pip install -q torch-geometric\n",
        "!pip install -q spacy\n",
        "!python -m spacy download en_core_web_sm\n"
      ],
      "metadata": {
        "colab": {
          "base_uri": "https://localhost:8080/"
        },
        "id": "K-6Dk-kW7Kq-",
        "outputId": "5c095ea6-bee3-40c9-ee98-b031e155e597"
      },
      "execution_count": 1,
      "outputs": [
        {
          "output_type": "stream",
          "name": "stdout",
          "text": [
            "\u001b[2K     \u001b[90m━━━━━━━━━━━━━━━━━━━━━━━━━━━━━━━━━━━━━━━━\u001b[0m \u001b[32m4.7/4.7 MB\u001b[0m \u001b[31m46.6 MB/s\u001b[0m eta \u001b[36m0:00:00\u001b[0m\n",
            "\u001b[2K     \u001b[90m━━━━━━━━━━━━━━━━━━━━━━━━━━━━━━━━━━━━━━━━\u001b[0m \u001b[32m10.8/10.8 MB\u001b[0m \u001b[31m53.2 MB/s\u001b[0m eta \u001b[36m0:00:00\u001b[0m\n",
            "\u001b[2K     \u001b[90m━━━━━━━━━━━━━━━━━━━━━━━━━━━━━━━━━━━━━━━━\u001b[0m \u001b[32m5.0/5.0 MB\u001b[0m \u001b[31m73.1 MB/s\u001b[0m eta \u001b[36m0:00:00\u001b[0m\n",
            "\u001b[2K     \u001b[90m━━━━━━━━━━━━━━━━━━━━━━━━━━━━━━━━━━━━━━━━\u001b[0m \u001b[32m3.4/3.4 MB\u001b[0m \u001b[31m88.7 MB/s\u001b[0m eta \u001b[36m0:00:00\u001b[0m\n",
            "\u001b[2K     \u001b[90m━━━━━━━━━━━━━━━━━━━━━━━━━━━━━━━━━━━━━━━━\u001b[0m \u001b[32m1.0/1.0 MB\u001b[0m \u001b[31m42.6 MB/s\u001b[0m eta \u001b[36m0:00:00\u001b[0m\n",
            "\u001b[2K     \u001b[90m━━━━━━━━━━━━━━━━━━━━━━━━━━━━━━━━━━━━━━━━\u001b[0m \u001b[32m63.1/63.1 kB\u001b[0m \u001b[31m3.6 MB/s\u001b[0m eta \u001b[36m0:00:00\u001b[0m\n",
            "\u001b[2K   \u001b[90m━━━━━━━━━━━━━━━━━━━━━━━━━━━━━━━━━━━━━━━━\u001b[0m \u001b[32m1.1/1.1 MB\u001b[0m \u001b[31m18.8 MB/s\u001b[0m eta \u001b[36m0:00:00\u001b[0m\n",
            "\u001b[?25hCollecting en-core-web-sm==3.8.0\n",
            "  Downloading https://github.com/explosion/spacy-models/releases/download/en_core_web_sm-3.8.0/en_core_web_sm-3.8.0-py3-none-any.whl (12.8 MB)\n",
            "\u001b[2K     \u001b[90m━━━━━━━━━━━━━━━━━━━━━━━━━━━━━━━━━━━━━━━\u001b[0m \u001b[32m12.8/12.8 MB\u001b[0m \u001b[31m118.9 MB/s\u001b[0m eta \u001b[36m0:00:00\u001b[0m\n",
            "\u001b[?25h\u001b[38;5;2m✔ Download and installation successful\u001b[0m\n",
            "You can now load the package via spacy.load('en_core_web_sm')\n",
            "\u001b[38;5;3m⚠ Restart to reload dependencies\u001b[0m\n",
            "If you are in a Jupyter or Colab notebook, you may need to restart Python in\n",
            "order to load all the package's dependencies. You can do this by selecting the\n",
            "'Restart kernel' or 'Restart runtime' option.\n"
          ]
        }
      ]
    },
    {
      "cell_type": "code",
      "source": [
        "# 1. Mount Drive and Import\n",
        "from google.colab import drive\n",
        "import os, json, pickle\n",
        "import torch\n",
        "import torch.nn as nn\n",
        "import networkx as nx\n",
        "from torch_geometric.data import Data\n",
        "from torch_geometric.nn import SAGEConv\n",
        "from torch.utils.data import Dataset, DataLoader\n",
        "from tqdm.notebook import tqdm\n",
        "import spacy"
      ],
      "metadata": {
        "id": "2c7yKm2v7N0U"
      },
      "execution_count": 2,
      "outputs": []
    },
    {
      "cell_type": "code",
      "source": [
        "\n",
        "# 2. Paths and Config\n",
        "DRIVE_ROOT       = '/content/drive'\n",
        "drive.mount(DRIVE_ROOT)\n",
        "\n",
        "# Input JSONs and features\n",
        "TEST_JSON        = os.path.join(DRIVE_ROOT, 'MyDrive/Gemini_Captions/kg_test_augmented.json')\n",
        "FEATS_TEST_PATH  = os.path.join(DRIVE_ROOT, 'MyDrive/gemini_models/kg_models2/precomputed_feats_test.pt')\n",
        "\n",
        "# Graph and Model artifacts\n",
        "KG_PATH          = os.path.join(DRIVE_ROOT, 'MyDrive/gemini_models/kg_models2/kg_graph_aug.gpickle')\n",
        "WEIGHTS_PATH     = os.path.join(DRIVE_ROOT, 'MyDrive/gemini_models/kg_models2/checkpoints/best_model.pth')\n",
        "\n",
        "# Output JSON for predictions\n",
        "OUTPUT_PRED_JSON = os.path.join(DRIVE_ROOT, 'MyDrive/Gemini_Captions/kg_captions2/test_predictions.json')\n",
        "DEVICE           = torch.device('cuda' if torch.cuda.is_available() else 'cpu')"
      ],
      "metadata": {
        "colab": {
          "base_uri": "https://localhost:8080/"
        },
        "id": "CzQelggP7QqB",
        "outputId": "473b8a38-9605-4f32-9ba3-c1a168197f4b"
      },
      "execution_count": 17,
      "outputs": [
        {
          "output_type": "stream",
          "name": "stdout",
          "text": [
            "Drive already mounted at /content/drive; to attempt to forcibly remount, call drive.mount(\"/content/drive\", force_remount=True).\n"
          ]
        }
      ]
    },
    {
      "cell_type": "code",
      "source": [
        "# 5. Dataset and DataLoader for Test Set\n",
        "nlp = spacy.load('en_core_web_sm')\n",
        "\n",
        "# 3. Load Knowledge Graph\n",
        "import pickle\n",
        "with open(KG_PATH, \"rb\") as f:\n",
        "    G = pickle.load(f)\n",
        "\n",
        "node_to_idx = {n:i for i,n in enumerate(G.nodes())}\n",
        "deg = dict(G.degree()); max_deg = max(deg.values()) if deg else 1\n",
        "edge_index = torch.tensor([[node_to_idx[u] for u,v in G.edges()],\n",
        "                           [node_to_idx[v] for u,v in G.edges()]], dtype=torch.long)\n",
        "x_feat = torch.tensor([[deg[n]/max_deg] for n in G.nodes()], dtype=torch.float)\n",
        "data_graph = Data(x=x_feat, edge_index=edge_index)\n",
        "\n",
        "# 4. Triplet Extraction Utility\n",
        "def extract_triplets(caption, nlp):\n",
        "    doc = nlp(caption.lower())\n",
        "    triples = []\n",
        "    for token in doc:\n",
        "        if token.dep_ in ('amod','acomp') and token.head.pos_=='NOUN':\n",
        "            triples.append((token.head.lemma_, token.lemma_))\n",
        "        elif token.dep_=='attr' and token.head.pos_=='NOUN':\n",
        "            triples.append((token.head.lemma_, token.lemma_))\n",
        "        elif token.dep_=='nsubj' and token.head.pos_ in ('VERB','AUX'):\n",
        "            triples.append((token.text, token.head.lemma_))\n",
        "    return triples\n",
        "\n"
      ],
      "metadata": {
        "id": "T9SQHuTs7UVc"
      },
      "execution_count": 15,
      "outputs": []
    },
    {
      "cell_type": "code",
      "source": [
        "# 5. Load Test Data\n",
        "with open(TEST_JSON) as f:\n",
        "    test_data = json.load(f)\n",
        "\n",
        "# 6. Load or Compute Test Features\n",
        "if os.path.exists(FEATS_TEST_PATH):\n",
        "    print(f\"✅ Loading precomputed test features from {FEATS_TEST_PATH}\")\n",
        "    all_feats_test = torch.load(FEATS_TEST_PATH)\n",
        "else:\n",
        "    print(\"🔄 Computing test features...\")\n",
        "    from multiprocessing import Pool, cpu_count\n",
        "    from sentence_transformers import SentenceTransformer, util\n",
        "    import numpy as np\n",
        "    from nltk.corpus import wordnet as wn\n",
        "\n",
        "    # Define hazard_keywords dict (as used during training)\n",
        "    hazard_keywords = {\n",
        "        \"low\": [\n",
        "            (\"clear road\", 1.0), (\"dry road\", 1.0), (\"daytime\", 1.0), (\"straight road\", 1.0),\n",
        "            (\"good visibility\", 1.0), (\"no traffic\", 1.0), (\"open road\", 1.0), (\"well-lit\", 1.0),\n",
        "            (\"sunny\", 1.0), (\"flat terrain\", 1.0), (\"light traffic\", 1.0), (\"wide road\", 1.0)\n",
        "        ],\n",
        "        \"medium\": [\n",
        "            (\"moderate visibility\", 1.5), (\"residential area\", 1.5), (\"curved road\", 1.5),\n",
        "            (\"slightly wet\", 1.5), (\"light rain\", 1.5), (\"children nearby\", 1.5),\n",
        "            (\"cyclist\", 1.5), (\"school zone\", 1.5), (\"urban traffic\", 1.5),\n",
        "            (\"construction zone\", 1.6), (\"intersections\", 1.6), (\"speed bumps\", 1.5)\n",
        "        ],\n",
        "        \"high\": [\n",
        "            (\"poor visibility\", 2.0), (\"fog\", 2.0), (\"heavy rain\", 2.1), (\"pedestrian ahead\", 2.2),\n",
        "            (\"jaywalking\", 2.2), (\"nighttime\", 2.0), (\"icy road\", 2.3), (\"sharp turn\", 2.1),\n",
        "            (\"blind spot\", 2.1), (\"narrow lane\", 2.0), (\"heavy traffic\", 2.0),\n",
        "            (\"obstruction\", 2.1), (\"collision\", 2.5), (\"emergency vehicle\", 2.2), (\"road closed\", 2.3)\n",
        "        ]\n",
        "    }\n",
        "\n",
        "    # Utility Functions\n",
        "    def keyword_hazard_score(text):\n",
        "        txt = text.lower()\n",
        "        return torch.tensor([sum(txt.count(kw) for kw, _ in hazard_keywords[lvl])\n",
        "                             for lvl in (\"low\", \"medium\", \"high\")], dtype=torch.float)\n",
        "\n",
        "    def graph_context_score(text):\n",
        "        nodes = {u for u, _ in extract_triplets(text, nlp)} | {v for _, v in extract_triplets(text, nlp)}\n",
        "        vals = [deg[n] / max_deg for n in nodes if n in deg]\n",
        "        return torch.tensor([np.mean(vals) if vals else 0.0] * 3, dtype=torch.float)\n",
        "\n",
        "    def compute_kg_feat(text):\n",
        "        return torch.cat([keyword_hazard_score(text), graph_context_score(text)])\n",
        "\n",
        "    # Initialize Sentence Embedder\n",
        "    sem_model = SentenceTransformer('all-MiniLM-L6-v2')\n",
        "\n",
        "    # Prepare semantic level embeddings\n",
        "    semantic_levels = {\n",
        "        lvl: sem_model.encode([kw for kw, _ in hazard_keywords[lvl]], convert_to_tensor=True)\n",
        "        for lvl in hazard_keywords\n",
        "    }\n",
        "\n",
        "    # Compute features\n",
        "    texts = [item['description'] for item in test_data]\n",
        "\n",
        "    # Keyword + graph features\n",
        "    with Pool(cpu_count()) as p:\n",
        "        kg_feats = list(p.imap(compute_kg_feat, texts))\n",
        "\n",
        "    # Semantic features\n",
        "    sem_feats = sem_model.encode(texts, convert_to_tensor=True, show_progress_bar=True)\n",
        "\n",
        "    all_feats_test_list = []\n",
        "    for i, emb in enumerate(sem_feats):\n",
        "        sims = [util.cos_sim(emb, semantic_levels[lvl]).max().item() for lvl in semantic_levels]\n",
        "        norm = sum(sims) or 1\n",
        "        sims = torch.tensor([s / norm for s in sims], dtype=torch.float)\n",
        "        all_feats_test_list.append(torch.cat([kg_feats[i], sims]))\n",
        "\n",
        "    all_feats_test = torch.stack(all_feats_test_list)\n",
        "\n",
        "    # Save for future runs\n",
        "    torch.save(all_feats_test, FEATS_TEST_PATH)\n",
        "    print(f\"✅ Saved computed test features to {FEATS_TEST_PATH}\")\n"
      ],
      "metadata": {
        "colab": {
          "base_uri": "https://localhost:8080/"
        },
        "id": "bzld8zOI8tZd",
        "outputId": "1ef361e7-bb13-46d8-8101-708a6d0e6a37"
      },
      "execution_count": 18,
      "outputs": [
        {
          "output_type": "stream",
          "name": "stdout",
          "text": [
            "✅ Loading precomputed test features from /content/drive/MyDrive/gemini_models/kg_models2/precomputed_feats_test_dup.pt\n"
          ]
        }
      ]
    },
    {
      "cell_type": "code",
      "source": [
        "\n",
        "class TestCaptionDataset(Dataset):\n",
        "    def __init__(self, data, feats, node_to_idx, nlp):\n",
        "        self.data = data\n",
        "        self.feats = feats\n",
        "        self.node_to_idx = node_to_idx\n",
        "        self.nlp = nlp\n",
        "    def __len__(self):\n",
        "        return len(self.data)\n",
        "    def __getitem__(self, idx):\n",
        "        item = self.data[idx]\n",
        "        desc = item['description']\n",
        "        triples = extract_triplets(desc, self.nlp)\n",
        "        nodes = [self.node_to_idx[n] for u,v in triples for n in (u,v) if n in self.node_to_idx]\n",
        "        if not nodes:\n",
        "            nodes = [0]\n",
        "        return nodes, self.feats[idx], item.get('filename', f\"img_{idx}\")\n",
        "\n",
        "# Load test annotations and features\n",
        "with open(TEST_JSON) as f:\n",
        "    test_data = json.load(f)\n",
        "all_feats_test = torch.load(FEATS_TEST_PATH)\n",
        "\n",
        "test_ds = TestCaptionDataset(test_data, all_feats_test, node_to_idx, nlp)\n",
        "test_loader = DataLoader(test_ds, batch_size=64, shuffle=False, collate_fn=lambda b: (list(zip(*b))[0], torch.stack(list(zip(*b))[1]), list(zip(*b))[2]))"
      ],
      "metadata": {
        "id": "allLqzoa7dTr"
      },
      "execution_count": 19,
      "outputs": []
    },
    {
      "cell_type": "code",
      "execution_count": 20,
      "metadata": {
        "colab": {
          "base_uri": "https://localhost:8080/"
        },
        "id": "2HN2Xioq6TF5",
        "outputId": "71ef03ca-e7fd-4682-cf3f-96f203babf67"
      },
      "outputs": [
        {
          "output_type": "execute_result",
          "data": {
            "text/plain": [
              "GraphSAGEClassifier(\n",
              "  (sage1): SAGEConv(1, 128, aggr=mean)\n",
              "  (sage2): SAGEConv(128, 128, aggr=mean)\n",
              "  (sage3): SAGEConv(128, 128, aggr=mean)\n",
              "  (mlp): Sequential(\n",
              "    (0): Linear(in_features=137, out_features=64, bias=True)\n",
              "    (1): LayerNorm((64,), eps=1e-05, elementwise_affine=True)\n",
              "    (2): ReLU()\n",
              "    (3): Dropout(p=0.3, inplace=False)\n",
              "    (4): Linear(in_features=64, out_features=3, bias=True)\n",
              "  )\n",
              ")"
            ]
          },
          "metadata": {},
          "execution_count": 20
        }
      ],
      "source": [
        "\n",
        "# 6. Define and Load Model\n",
        "class GraphSAGEClassifier(nn.Module):\n",
        "    def __init__(self, in_c, hidden_c, out_c, dropout=0.3):\n",
        "        super().__init__()\n",
        "        self.sage1 = SAGEConv(in_c, hidden_c)\n",
        "        self.sage2 = SAGEConv(hidden_c, hidden_c)\n",
        "        self.sage3 = SAGEConv(hidden_c, hidden_c)\n",
        "        self.attn_weights = nn.Parameter(torch.randn(hidden_c,1))\n",
        "        self.mlp = nn.Sequential(\n",
        "            nn.Linear(hidden_c + 9, 64), nn.LayerNorm(64), nn.ReLU(),\n",
        "            nn.Dropout(dropout), nn.Linear(64, out_c)\n",
        "        )\n",
        "    def forward(self, node_ids_batch, heuristics, graph):\n",
        "        x, edge_index = graph.x, graph.edge_index\n",
        "        x = self.sage1(x, edge_index).relu()\n",
        "        x = self.sage2(x, edge_index).relu()\n",
        "        x = self.sage3(x, edge_index).relu()\n",
        "        node_feats = []\n",
        "        for node_ids in node_ids_batch:\n",
        "            embeds = x[node_ids]\n",
        "            scores = embeds @ self.attn_weights\n",
        "            attn = torch.softmax(scores, dim=0)\n",
        "            node_feats.append((attn * embeds).sum(dim=0))\n",
        "        graph_feats = torch.stack(node_feats)\n",
        "        combined = torch.cat([graph_feats, heuristics.to(DEVICE)], dim=1)\n",
        "        return self.mlp(combined)\n",
        "\n",
        "model = GraphSAGEClassifier(1,128,3).to(DEVICE)\n",
        "model.load_state_dict(torch.load(WEIGHTS_PATH, map_location=DEVICE))\n",
        "model.eval()\n",
        "\n",
        "\n"
      ]
    },
    {
      "cell_type": "code",
      "source": [
        "# 7. Inference and Save to JSON\n",
        "ratings = ['low','medium','high']\n",
        "preds = []\n",
        "with torch.no_grad():\n",
        "    for nodes, heur, fnames in tqdm(test_loader, desc='Inference'):\n",
        "        heur = heur.to(DEVICE)\n",
        "        out = model(nodes, heur, data_graph.to(DEVICE))\n",
        "        labs = out.argmax(dim=1).cpu().tolist()\n",
        "        for fname, lab in zip(fnames, labs):\n",
        "            preds.append({'filename': fname, 'predicted_rating': ratings[lab]})\n",
        "\n",
        "# Write predictions\n",
        "with open(OUTPUT_PRED_JSON, 'w') as f:\n",
        "    json.dump(preds, f, indent=4)\n",
        "print(f\"✅ Saved {len(preds)} predictions to {OUTPUT_PRED_JSON}\")"
      ],
      "metadata": {
        "colab": {
          "base_uri": "https://localhost:8080/",
          "height": 66,
          "referenced_widgets": [
            "80c1e7dc573d49f2934f940b15e32a0b",
            "891ccec3d8da44708460e609918e8084",
            "c5d870dd511c4f8eabc8d1c1ac43ec6c",
            "6f86a0fda58f400e929df657dd4a5929",
            "57dd89d5f6d34d4886b4133eedf9cde2",
            "c023f9b0fd9b4a8893c125bb1a9a4445",
            "5a7f72bfe34d48e2990a7297902046ec",
            "c52d68090ae64b7fb88557177b79b1d7",
            "5761703ddaaf4aa49e03053c7510a07d",
            "98d0786d1ded427fb4de04a3f753bbf2",
            "e22fcdf27e4649359f5d3e51c75305fd"
          ]
        },
        "id": "zW-bs-_T7CWb",
        "outputId": "12d503a7-a3d2-4fa4-fcc3-9f1ea29c729a"
      },
      "execution_count": 21,
      "outputs": [
        {
          "output_type": "display_data",
          "data": {
            "text/plain": [
              "Inference:   0%|          | 0/25 [00:00<?, ?it/s]"
            ],
            "application/vnd.jupyter.widget-view+json": {
              "version_major": 2,
              "version_minor": 0,
              "model_id": "80c1e7dc573d49f2934f940b15e32a0b"
            }
          },
          "metadata": {}
        },
        {
          "output_type": "stream",
          "name": "stdout",
          "text": [
            "✅ Saved 1539 predictions to /content/drive/MyDrive/Gemini_Captions/kg_captions2/test_predictions_original.json\n"
          ]
        }
      ]
    },
    {
      "cell_type": "code",
      "source": [
        "# 10. Evaluation Metrics and Plots\n",
        "from sklearn.metrics import classification_report, confusion_matrix\n",
        "import seaborn as sns\n",
        "import matplotlib.pyplot as plt\n",
        "\n",
        "# Extract true & predicted labels in order\n",
        "true = [item['hazard_rating'] for item in test_data]\n",
        "pred_labels = [p['predicted_rating'] for p in preds]\n",
        "\n",
        "# Classification Report\n",
        "print(\"Classification Report:\\n\")\n",
        "print(classification_report(true, pred_labels, target_names=[\"low\", \"medium\", \"high\"]))\n",
        "\n",
        "# Confusion Matrix\n",
        "cm = confusion_matrix(true, pred_labels, labels=[\"low\", \"medium\", \"high\"])\n",
        "plt.figure(figsize=(6, 5))\n",
        "sns.heatmap(\n",
        "    cm,\n",
        "    annot=True,\n",
        "    fmt=\"d\",\n",
        "    cmap=\"Blues\",\n",
        "    xticklabels=[\"low\", \"medium\", \"high\"],\n",
        "    yticklabels=[\"low\", \"medium\", \"high\"]\n",
        ")\n",
        "plt.xlabel(\"Predicted\")\n",
        "plt.ylabel(\"True\")\n",
        "plt.title(\"Confusion Matrix\")\n",
        "plt.tight_layout()\n",
        "plt.show()\n"
      ],
      "metadata": {
        "colab": {
          "base_uri": "https://localhost:8080/",
          "height": 715
        },
        "id": "wjHLJU6_9Kf0",
        "outputId": "20882e4d-1b93-49c7-fa8b-2db89876dcfc"
      },
      "execution_count": 22,
      "outputs": [
        {
          "output_type": "stream",
          "name": "stdout",
          "text": [
            "Classification Report:\n",
            "\n",
            "              precision    recall  f1-score   support\n",
            "\n",
            "         low       0.67      0.30      0.42       587\n",
            "      medium       0.31      0.55      0.40       146\n",
            "        high       0.63      0.79      0.70       806\n",
            "\n",
            "    accuracy                           0.58      1539\n",
            "   macro avg       0.54      0.55      0.50      1539\n",
            "weighted avg       0.61      0.58      0.56      1539\n",
            "\n"
          ]
        },
        {
          "output_type": "display_data",
          "data": {
            "text/plain": [
              "<Figure size 600x500 with 2 Axes>"
            ],
            "image/png": "[encoded data removed]"
          },
          "metadata": {}
        }
      ]
    }
  ]
}