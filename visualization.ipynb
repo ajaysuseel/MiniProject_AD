{
  "nbformat": 4,
  "nbformat_minor": 0,
  "metadata": {
    "colab": {
      "provenance": [],
      "authorship_tag": "ABX9TyOWrTjRNw/jqGuS6HX+P6Jp",
      "include_colab_link": true
    },
    "kernelspec": {
      "name": "python3",
      "display_name": "Python 3"
    },
    "language_info": {
      "name": "python"
    }
  },
  "cells": [
    {
      "cell_type": "markdown",
      "metadata": {
        "id": "view-in-github",
        "colab_type": "text"
      },
      "source": [
        "<a href=\"https://colab.research.google.com/github/ajaysuseel/MiniProject_AD/blob/main/visualization.ipynb\" target=\"_parent\"><img src=\"https://colab.research.google.com/assets/colab-badge.svg\" alt=\"Open In Colab\"/></a>"
      ]
    },
    {
      "cell_type": "code",
      "execution_count": null,
      "metadata": {
        "id": "uvX0nf3KfvuG"
      },
      "outputs": [],
      "source": [
        "!git clone https://github.com/ajaysuseel/MiniProject_AD.git"
      ]
    },
    {
      "cell_type": "code",
      "source": [
        "import os\n",
        "import json\n",
        "import matplotlib.pyplot as plt\n",
        "from PIL import Image"
      ],
      "metadata": {
        "id": "W3gkYVwZfyLd"
      },
      "execution_count": null,
      "outputs": []
    },
    {
      "cell_type": "code",
      "source": [
        "repo_name = \"MiniProject_AD\"  # Change this to your repo name\n",
        "base_path = os.path.join(\"/content\", repo_name)\n",
        "\n",
        "images_dir = os.path.join(base_path, \"augmented\", \"images\")  # Change if different\n",
        "captions_file = os.path.join(base_path, \"augmented\", \"captions.json\")  # Change if different"
      ],
      "metadata": {
        "id": "hLFK1qqlf2Tx"
      },
      "execution_count": null,
      "outputs": []
    },
    {
      "cell_type": "code",
      "source": [
        "# Load captions\n",
        "with open(captions_file, \"r\") as f:\n",
        "    captions = json.load(f)\n",
        "\n",
        "# Function to display images with captions\n",
        "def display_images(num_images=5):\n",
        "    fig, axes = plt.subplots(1, num_images, figsize=(15, 5))\n",
        "\n",
        "    for i in range(num_images):\n",
        "        if i >= len(captions):\n",
        "            break\n",
        "\n",
        "        entry = captions[i]\n",
        "        filename = entry[\"filename\"]\n",
        "        caption = entry[\"description\"]\n",
        "        file_path = os.path.join(images_dir, filename)\n",
        "\n",
        "        # Open image\n",
        "        image = Image.open(file_path)\n",
        "\n",
        "        # Display image\n",
        "        axes[i].imshow(image)\n",
        "        axes[i].axis(\"off\")\n",
        "        axes[i].set_title(\"\\n\".join(caption[i:i+50] for i in range(0, len(caption), 50)))  # Wrap long captions\n",
        "\n",
        "    plt.show()\n"
      ],
      "metadata": {
        "id": "tKZYNYPPf7gh"
      },
      "execution_count": null,
      "outputs": []
    },
    {
      "cell_type": "code",
      "source": [
        "# Call function to display images\n",
        "display_images(num_images=5)  # Change number as needed"
      ],
      "metadata": {
        "id": "aJ0YXZ20f-DE"
      },
      "execution_count": null,
      "outputs": []
    }
  ]
}